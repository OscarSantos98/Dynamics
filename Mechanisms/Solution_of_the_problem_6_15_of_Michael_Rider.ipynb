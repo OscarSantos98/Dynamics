{
  "nbformat": 4,
  "nbformat_minor": 0,
  "metadata": {
    "colab": {
      "name": "Solution_of_the_problem_6_15_of_Michael_Rider.ipynb",
      "provenance": [],
      "collapsed_sections": [],
      "authorship_tag": "ABX9TyPjPRZcoPcFjWc8zgTO2gWl",
      "include_colab_link": true
    },
    "kernelspec": {
      "name": "python3",
      "display_name": "Python 3"
    }
  },
  "cells": [
    {
      "cell_type": "markdown",
      "metadata": {
        "id": "view-in-github",
        "colab_type": "text"
      },
      "source": [
        "<a href=\"https://colab.research.google.com/github/OscarSantos98/Dynamics/blob/master/Mechanisms/Solution_of_the_problem_6_15_of_Michael_Rider.ipynb\" target=\"_parent\"><img src=\"https://colab.research.google.com/assets/colab-badge.svg\" alt=\"Open In Colab\"/></a>"
      ]
    },
    {
      "cell_type": "markdown",
      "metadata": {
        "id": "DAWKZB8eUe0G",
        "colab_type": "text"
      },
      "source": [
        "# Solution of the problem 6-15 of Michael Rider book, using the methods of dynamics of rigid bodies.\n",
        "# by **Oscar Alberto Santos Muñoz**"
      ]
    },
    {
      "cell_type": "markdown",
      "metadata": {
        "id": "B1m8fdMkIceI",
        "colab_type": "text"
      },
      "source": [
        "This code is licensed by MIT LICENSE\n",
        "\n",
        "Copyright (c) 2020 OscarSantos98\n",
        "\n",
        "Permission is hereby granted, free of charge, to any person obtaining a copy of this software and associated documentation files (the \"Software\"), to deal in the Software without restriction, including without limitation the rights to use, copy, modify, merge, publish, distribute, sublicense, and/or sell copies of the Software, and to permit persons to whom the Software is furnished to do so, subject to the following conditions:\n",
        "\n",
        "The above copyright notice and this permission notice shall be included in all copies or substantial portions of the Software.\n",
        "\n",
        "THE SOFTWARE IS PROVIDED \"AS IS\", WITHOUT WARRANTY OF ANY KIND, EXPRESS OR IMPLIED, INCLUDING BUT NOT LIMITED TO THE WARRANTIES OF MERCHANTABILITY, FITNESS FOR A PARTICULAR PURPOSE AND NONINFRINGEMENT. IN NO EVENT SHALL THE AUTHORS OR COPYRIGHT HOLDERS BE LIABLE FOR ANY CLAIM, DAMAGES OR OTHER LIABILITY, WHETHER IN AN ACTION OF CONTRACT, TORT OR OTHERWISE, ARISING FROM, OUT OF OR IN CONNECTION WITH THE SOFTWARE OR THE USE OR OTHER DEALINGS IN THE SOFTWARE."
      ]
    },
    {
      "cell_type": "markdown",
      "metadata": {
        "id": "lLXEO4b1VYkX",
        "colab_type": "text"
      },
      "source": [
        "<table class=\"buttons\" align=\"center\">\n",
        "  <td>\n",
        "    <a target=\"_blank\" href=\"https://drive.google.com/open?id=1TMs1iiEcBBNUgmY8XnYxq3i8kOJpYyyc\">Run in Google Colab</a>\n",
        "  </td>\n",
        "  <td>\n",
        "    <a target=\"_blank\" href=\"https://github.com/OscarSantos98/Dynamics\">View source on GitHub</a>\n",
        "  </td>\n",
        "</table>"
      ]
    },
    {
      "cell_type": "code",
      "metadata": {
        "id": "2gCoIb6LUQVq",
        "colab_type": "code",
        "colab": {}
      },
      "source": [
        "import sympy as sp"
      ],
      "execution_count": 0,
      "outputs": []
    },
    {
      "cell_type": "markdown",
      "metadata": {
        "id": "kBJ31V3tX4Cy",
        "colab_type": "text"
      },
      "source": [
        "![If you do not see the picture, please double click here to edit and you will see it](https://drive.google.com/uc?id=1H169bhxjBJsozBl0vcBrpHvl3_wKKBaW)"
      ]
    },
    {
      "cell_type": "markdown",
      "metadata": {
        "id": "Jiale9BfITNK",
        "colab_type": "text"
      },
      "source": [
        "From the problem we know that $\\omega2 = 9 \\; \\frac{rad}{s} \\; c.c.w.$"
      ]
    },
    {
      "cell_type": "markdown",
      "metadata": {
        "id": "Y-nXiizMU2KL",
        "colab_type": "text"
      },
      "source": [
        "# In the next line the values of the magnitude of the vectors are introduced."
      ]
    },
    {
      "cell_type": "code",
      "metadata": {
        "id": "EVtczNhnU0-N",
        "colab_type": "code",
        "colab": {}
      },
      "source": [
        "a2, a3, a4, a5, a6, b3 = 70, 100, 80, 120, 100, 65"
      ],
      "execution_count": 0,
      "outputs": []
    },
    {
      "cell_type": "markdown",
      "metadata": {
        "id": "xa7zulkbVT7h",
        "colab_type": "text"
      },
      "source": [
        "Print the values of the magnitudes."
      ]
    },
    {
      "cell_type": "code",
      "metadata": {
        "id": "4eLaU5grVWlN",
        "colab_type": "code",
        "colab": {
          "base_uri": "https://localhost:8080/",
          "height": 136
        },
        "outputId": "f14a0c7a-4927-4baf-c267-e1c85bc2f3e6"
      },
      "source": [
        "print(\"Links length of the mechanism\\na2 =\",a2,\"\\na3 =\",a3,\"\\na4 =\",a4,\"\\na5 =\",a5,\"\\na6 =\",a6,\"\\nb3 =\",b3)"
      ],
      "execution_count": 3,
      "outputs": [
        {
          "output_type": "stream",
          "text": [
            "Links length of the mechanism\n",
            "a2 = 70 \n",
            "a3 = 100 \n",
            "a4 = 80 \n",
            "a5 = 120 \n",
            "a6 = 100 \n",
            "b3 = 65\n"
          ],
          "name": "stdout"
        }
      ]
    },
    {
      "cell_type": "code",
      "metadata": {
        "id": "Lna4oZIJVjV_",
        "colab_type": "code",
        "colab": {}
      },
      "source": [
        "theta2 = (95*sp.pi/180).evalf()\n",
        "theta3 = (4.63498*sp.pi/180).evalf()\n",
        "theta4 = (76.57626*sp.pi/180).evalf()\n",
        "theta5 = (-7.2327*sp.pi/180).evalf()\n",
        "theta6 = (105.74221*sp.pi/180).evalf()\n",
        "beta = (35.18382*sp.pi/180).evalf()"
      ],
      "execution_count": 0,
      "outputs": []
    },
    {
      "cell_type": "markdown",
      "metadata": {
        "id": "9BQRb6oTVdy4",
        "colab_type": "text"
      },
      "source": [
        "Create alpha, beta and theta strings.\n",
        "\n",
        "\n",
        "\n"
      ]
    },
    {
      "cell_type": "code",
      "metadata": {
        "id": "LcbDl23zVpB4",
        "colab_type": "code",
        "colab": {}
      },
      "source": [
        "th_str = []\n",
        "w_str = []\n",
        "alp_str = []\n",
        "for i in range(2,7):\n",
        "\tth_str.append(chr(952) + str(i))\n",
        "\tw_str.append(chr(969) + str(i))\n",
        "\talp_str.append(chr(945) + str(i))"
      ],
      "execution_count": 0,
      "outputs": []
    },
    {
      "cell_type": "markdown",
      "metadata": {
        "id": "vtMu1aUWVrnd",
        "colab_type": "text"
      },
      "source": [
        "Print the values of the angles."
      ]
    },
    {
      "cell_type": "code",
      "metadata": {
        "id": "YsRhGJgwbTg2",
        "colab_type": "code",
        "colab": {
          "base_uri": "https://localhost:8080/",
          "height": 136
        },
        "outputId": "933f2b05-41a1-45f7-aa8a-776726b48dc8"
      },
      "source": [
        "print(\"Angles\\n\",th_str[0],\" =\",theta2,\"\\n\",th_str[1],\" =\",theta3,\"\\n\",th_str[2],\" =\",theta4,\"\\n\",th_str[3],\" =\",theta5,\"\\n\",th_str[4],\" =\",theta6,\"\\n\",chr(946),\" =\",beta)"
      ],
      "execution_count": 6,
      "outputs": [
        {
          "output_type": "stream",
          "text": [
            "Angles\n",
            " θ2  = 1.65806278939461 \n",
            " θ3  = 0.0808956617640868 \n",
            " θ4  = 1.33650786586323 \n",
            " θ5  = -0.126234428808994 \n",
            " θ6  = 1.84554972283527 \n",
            " β  = 0.614073502429031\n"
          ],
          "name": "stdout"
        }
      ]
    },
    {
      "cell_type": "markdown",
      "metadata": {
        "id": "Q0hPd6I8bSwA",
        "colab_type": "text"
      },
      "source": [
        "# The necessary position vectors will be computed."
      ]
    },
    {
      "cell_type": "code",
      "metadata": {
        "id": "nawNAMv0bYA1",
        "colab_type": "code",
        "colab": {}
      },
      "source": [
        "rCO21 = sp.Matrix(1,3,[a2*sp.cos(theta2),a2*sp.sin(theta2),0])\n",
        "rDC = sp.Matrix(1,3,[a3*sp.cos(theta3),a3*sp.sin(theta3),0])\n",
        "rDO41 = sp.Matrix(1,3,[a4*sp.cos(theta4),a4*sp.sin(theta4),0])\n",
        "rPC = sp.Matrix(1,3,[b3*sp.cos(theta3+beta),b3*sp.sin(theta3+beta),0])\n",
        "rFP = sp.Matrix(1,3,[a5*sp.cos(theta5),a5*sp.sin(theta5),0])\n",
        "rFO61 = sp.Matrix(1,3,[a6*sp.cos(theta6),a6*sp.sin(theta6),0])"
      ],
      "execution_count": 0,
      "outputs": []
    },
    {
      "cell_type": "markdown",
      "metadata": {
        "id": "N983tvcRbbSL",
        "colab_type": "text"
      },
      "source": [
        "Print the results of the position vectors."
      ]
    },
    {
      "cell_type": "code",
      "metadata": {
        "id": "Z8JroUs5biFf",
        "colab_type": "code",
        "colab": {
          "base_uri": "https://localhost:8080/",
          "height": 136
        },
        "outputId": "1cc181c8-76a5-44b9-aa7d-3654b3911fe3"
      },
      "source": [
        "print(\"Position vectors\\nrCO21 =\",rCO21,\"\\nrDC =\",rDC,\"\\nrDO41 =\",rDO41,\"\\nrPC =\",rPC,\"\\nrFP =\",rFP,\"\\nrFO61 =\",rFO61)"
      ],
      "execution_count": 8,
      "outputs": [
        {
          "output_type": "stream",
          "text": [
            "Position vectors\n",
            "rCO21 = Matrix([[-6.10090199233608, 69.7336288664222, 0]]) \n",
            "rDC = Matrix([[99.6729729954293, 8.08074589703349, 0]]) \n",
            "rDO41 = Matrix([[18.5720755743718, 77.8143817610846, 0]]) \n",
            "rPC = Matrix([[49.9247741348628, 41.6235141186197, 0]]) \n",
            "rFP = Matrix([[119.045161106793, -15.1079322561889, 0]]) \n",
            "rFO61 = Matrix([[-27.1309590837080, 96.2492132913208, 0]])\n"
          ],
          "name": "stdout"
        }
      ]
    },
    {
      "cell_type": "markdown",
      "metadata": {
        "id": "rroqib-Abmat",
        "colab_type": "text"
      },
      "source": [
        "# Velocity analysis: Definition of the angular velocities."
      ]
    },
    {
      "cell_type": "markdown",
      "metadata": {
        "id": "_sJWuNQhbqjh",
        "colab_type": "text"
      },
      "source": [
        "Declare symbolic variables."
      ]
    },
    {
      "cell_type": "code",
      "metadata": {
        "id": "tcSRL18qbtFo",
        "colab_type": "code",
        "colab": {}
      },
      "source": [
        "w2, w3, w4, w5, w6 = sp.symbols('w2 w3 w4 w5 w6')"
      ],
      "execution_count": 0,
      "outputs": []
    },
    {
      "cell_type": "markdown",
      "metadata": {
        "id": "UIQXI5qyb5qC",
        "colab_type": "text"
      },
      "source": [
        "Create vectors with the known values and the symbolic variables."
      ]
    },
    {
      "cell_type": "code",
      "metadata": {
        "id": "2KZ1zg9nb6DH",
        "colab_type": "code",
        "colab": {}
      },
      "source": [
        "omega2 = sp.Matrix(1,3,[0,0,9])\n",
        "omega3 = sp.Matrix(1,3,[0,0,w3])\n",
        "omega4 = sp.Matrix(1,3,[0,0,w4])\n",
        "omega5 = sp.Matrix(1,3,[0,0,w5])\n",
        "omega6 = sp.Matrix(1,3,[0,0,w6])"
      ],
      "execution_count": 0,
      "outputs": []
    },
    {
      "cell_type": "markdown",
      "metadata": {
        "id": "Usm3epZBcJWj",
        "colab_type": "text"
      },
      "source": [
        "Print the vectors."
      ]
    },
    {
      "cell_type": "code",
      "metadata": {
        "id": "nYo6WAkxcJmw",
        "colab_type": "code",
        "colab": {
          "base_uri": "https://localhost:8080/",
          "height": 119
        },
        "outputId": "a3dd8193-bb7d-436f-dec0-bf8bb8050d37"
      },
      "source": [
        "print(\"Angular velocities\\n\",w_str[0],\"=\",omega2,\"\\n\",w_str[1],\"=\",omega3,\"\\n\",w_str[2],\"=\",omega4,\"\\n\",w_str[3],\"=\",omega5,\"\\n\",w_str[4],\"=\",omega6)"
      ],
      "execution_count": 11,
      "outputs": [
        {
          "output_type": "stream",
          "text": [
            "Angular velocities\n",
            " ω2 = Matrix([[0, 0, 9]]) \n",
            " ω3 = Matrix([[0, 0, w3]]) \n",
            " ω4 = Matrix([[0, 0, w4]]) \n",
            " ω5 = Matrix([[0, 0, w5]]) \n",
            " ω6 = Matrix([[0, 0, w6]])\n"
          ],
          "name": "stdout"
        }
      ]
    },
    {
      "cell_type": "markdown",
      "metadata": {
        "id": "ZzmdEHnicWEP",
        "colab_type": "text"
      },
      "source": [
        "Calculate velocities."
      ]
    },
    {
      "cell_type": "code",
      "metadata": {
        "id": "7PT0lNkLcWUw",
        "colab_type": "code",
        "colab": {}
      },
      "source": [
        "VC = omega2.cross(rCO21)\n",
        "VD1 = VC + omega3.cross(rDC)\n",
        "VD2 = omega4.cross(rDO41)"
      ],
      "execution_count": 0,
      "outputs": []
    },
    {
      "cell_type": "markdown",
      "metadata": {
        "id": "ok-0UlqJcbwi",
        "colab_type": "text"
      },
      "source": [
        "Print the results of the point velocities"
      ]
    },
    {
      "cell_type": "code",
      "metadata": {
        "id": "psvXp2zqcgh6",
        "colab_type": "code",
        "colab": {
          "base_uri": "https://localhost:8080/",
          "height": 85
        },
        "outputId": "a7d0b76f-d444-44af-81af-5d2ad39b2a02"
      },
      "source": [
        "print(\"Point velocities\\nVC = \",w_str[0],\" x rCO21 = \",VC,\"\\nVD1 = VC + \",w_str[1],\" x rDC = \",VD1,\"\\nVD2 = \",w_str[2],\" x rDO41 = \",VD2)"
      ],
      "execution_count": 13,
      "outputs": [
        {
          "output_type": "stream",
          "text": [
            "Point velocities\n",
            "VC =  ω2  x rCO21 =  Matrix([[-627.602659797800, -54.9081179310247, 0]]) \n",
            "VD1 = VC +  ω3  x rDC =  Matrix([[-8.08074589703349*w3 - 627.6026597978, 99.6729729954293*w3 - 54.9081179310247, 0]]) \n",
            "VD2 =  ω4  x rDO41 =  Matrix([[-77.8143817610846*w4, 18.5720755743718*w4, 0]])\n"
          ],
          "name": "stdout"
        }
      ]
    },
    {
      "cell_type": "markdown",
      "metadata": {
        "id": "71EK3rxaci_q",
        "colab_type": "text"
      },
      "source": [
        "Solve for w3 and w4."
      ]
    },
    {
      "cell_type": "code",
      "metadata": {
        "id": "cKcoFw4QcoDw",
        "colab_type": "code",
        "colab": {}
      },
      "source": [
        "Eqv1 = sp.Eq(VD1[0],VD2[0])\n",
        "Eqv2 = sp.Eq(VD1[1],VD2[1])\n",
        "answ = sp.solve([Eqv1,Eqv2])"
      ],
      "execution_count": 0,
      "outputs": []
    },
    {
      "cell_type": "markdown",
      "metadata": {
        "id": "xwnrAwbucpWX",
        "colab_type": "text"
      },
      "source": [
        "Print the answer."
      ]
    },
    {
      "cell_type": "code",
      "metadata": {
        "id": "NjABIvHrcur_",
        "colab_type": "code",
        "colab": {
          "base_uri": "https://localhost:8080/",
          "height": 51
        },
        "outputId": "276925a7-ce27-4049-be36-87c4994caae8"
      },
      "source": [
        "print(\"Solution for w3 and w4 of matching velocity equations of point D\\n\",answ)"
      ],
      "execution_count": 15,
      "outputs": [
        {
          "output_type": "stream",
          "text": [
            "Solution for w3 and w4 of matching velocity equations of point D\n",
            " {w3: 2.09422879753408, w4: 8.28285949170457}\n"
          ],
          "name": "stdout"
        }
      ]
    },
    {
      "cell_type": "markdown",
      "metadata": {
        "id": "P5D1vMuocsJQ",
        "colab_type": "text"
      },
      "source": [
        "Substitue the answer in the vector w3 and w4."
      ]
    },
    {
      "cell_type": "code",
      "metadata": {
        "id": "nvyiamiPcx-S",
        "colab_type": "code",
        "colab": {}
      },
      "source": [
        "omega3 = omega3.subs(w3,answ[w3])\n",
        "omega4 = omega4.subs(w4,answ[w4])"
      ],
      "execution_count": 0,
      "outputs": []
    },
    {
      "cell_type": "code",
      "metadata": {
        "id": "u6kGSZWUc6hx",
        "colab_type": "code",
        "colab": {
          "base_uri": "https://localhost:8080/",
          "height": 68
        },
        "outputId": "8683bcf2-7072-4bdd-fb02-0e48d2a9eab8"
      },
      "source": [
        "print(\"Substituting w3 and w4 in vectors\",w_str[1],\" and \",w_str[2],\"\\n\",w_str[1],\"=\",omega3,\"\\n\",w_str[2],\"=\",omega4)"
      ],
      "execution_count": 17,
      "outputs": [
        {
          "output_type": "stream",
          "text": [
            "Substituting w3 and w4 in vectors ω3  and  ω4 \n",
            " ω3 = Matrix([[0, 0, 2.09422879753408]]) \n",
            " ω4 = Matrix([[0, 0, 8.28285949170457]])\n"
          ],
          "name": "stdout"
        }
      ]
    },
    {
      "cell_type": "markdown",
      "metadata": {
        "id": "_54oFKaPc5mp",
        "colab_type": "text"
      },
      "source": [
        "Calculate the rest of the velocities."
      ]
    },
    {
      "cell_type": "code",
      "metadata": {
        "id": "QFJCcpp8dBS-",
        "colab_type": "code",
        "colab": {}
      },
      "source": [
        "VP = VC + omega3.cross(rPC)\n",
        "VF1 = VP + omega5.cross(rFP)\n",
        "VF2 = omega6.cross(rFO61)"
      ],
      "execution_count": 0,
      "outputs": []
    },
    {
      "cell_type": "markdown",
      "metadata": {
        "id": "xu45YZuIdDj4",
        "colab_type": "text"
      },
      "source": [
        "Print the result of the velocities."
      ]
    },
    {
      "cell_type": "code",
      "metadata": {
        "id": "s6uMQ3yTdJ82",
        "colab_type": "code",
        "colab": {
          "base_uri": "https://localhost:8080/",
          "height": 85
        },
        "outputId": "c0c22b9d-7bc9-451a-80ba-45837239ce0f"
      },
      "source": [
        "print(\"Point velocities\\nVP = VC + \",w_str[1],\" x rPC = \",VP,\"\\nVF1 = VP + \",w_str[3],\" x rFP = \",VF1,\"\\nVF2 = \",w_str[4],\" x rFO61 = \",VF2)"
      ],
      "execution_count": 19,
      "outputs": [
        {
          "output_type": "stream",
          "text": [
            "Point velocities\n",
            "VP = VC +  ω3  x rPC =  Matrix([[-714.771821719580, 49.6457817725896, 0]]) \n",
            "VF1 = VP +  ω5  x rFP =  Matrix([[15.1079322561889*w5 - 714.77182171958, 119.045161106793*w5 + 49.6457817725896, 0]]) \n",
            "VF2 =  ω6  x rFO61 =  Matrix([[-96.2492132913208*w6, -27.130959083708*w6, 0]])\n"
          ],
          "name": "stdout"
        }
      ]
    },
    {
      "cell_type": "markdown",
      "metadata": {
        "id": "d-F0fE-YdHGd",
        "colab_type": "text"
      },
      "source": [
        "Solve for w5 and w6.\n",
        "\n"
      ]
    },
    {
      "cell_type": "code",
      "metadata": {
        "id": "WBX6g_NWdV_D",
        "colab_type": "code",
        "colab": {}
      },
      "source": [
        "Eqv3 = sp.Eq(VF1[0],VF2[0])\n",
        "Eqv4 = sp.Eq(VF1[1],VF2[1])\n",
        "answ2 = sp.solve([Eqv3,Eqv4])"
      ],
      "execution_count": 0,
      "outputs": []
    },
    {
      "cell_type": "markdown",
      "metadata": {
        "id": "b_a42K8YdTM0",
        "colab_type": "text"
      },
      "source": [
        "Print the answer."
      ]
    },
    {
      "cell_type": "code",
      "metadata": {
        "id": "pjXVMUNddYsV",
        "colab_type": "code",
        "colab": {
          "base_uri": "https://localhost:8080/",
          "height": 51
        },
        "outputId": "252e7920-8e10-41e5-9872-9a5afd80cb22"
      },
      "source": [
        "print(\"Solution for w5 and w6 of matching velocity equations of point F\\n\",answ2)"
      ],
      "execution_count": 21,
      "outputs": [
        {
          "output_type": "stream",
          "text": [
            "Solution for w5 and w6 of matching velocity equations of point F\n",
            " {w5: -2.18777796287317, w6: 7.76966997860839}\n"
          ],
          "name": "stdout"
        }
      ]
    },
    {
      "cell_type": "markdown",
      "metadata": {
        "id": "O_HFR9CmdPp8",
        "colab_type": "text"
      },
      "source": [
        "Substitue the answer in the vector w5 and w5."
      ]
    },
    {
      "cell_type": "code",
      "metadata": {
        "id": "QWlnyI3BdcQ3",
        "colab_type": "code",
        "colab": {}
      },
      "source": [
        "omega5 = omega5.subs(w5,answ2[w5])\n",
        "omega6 = omega6.subs(w6,answ2[w6])"
      ],
      "execution_count": 0,
      "outputs": []
    },
    {
      "cell_type": "code",
      "metadata": {
        "id": "FRn_jRYfdgZa",
        "colab_type": "code",
        "colab": {
          "base_uri": "https://localhost:8080/",
          "height": 68
        },
        "outputId": "d73ca873-e171-46a6-c79e-499ed9f19a5b"
      },
      "source": [
        "print(\"Substituting w5 and w6 in vectors\",w_str[3],\" and \",w_str[4],\"\\n\",w_str[3],\"=\",omega5,\"\\n\",w_str[4],\"=\",omega6)"
      ],
      "execution_count": 23,
      "outputs": [
        {
          "output_type": "stream",
          "text": [
            "Substituting w5 and w6 in vectors ω5  and  ω6 \n",
            " ω5 = Matrix([[0, 0, -2.18777796287317]]) \n",
            " ω6 = Matrix([[0, 0, 7.76966997860839]])\n"
          ],
          "name": "stdout"
        }
      ]
    },
    {
      "cell_type": "markdown",
      "metadata": {
        "id": "Ia-UuglFddjB",
        "colab_type": "text"
      },
      "source": [
        "# Acceleration analysis. Definition of the angular accelerations."
      ]
    },
    {
      "cell_type": "markdown",
      "metadata": {
        "id": "dLKe9ZINdkoe",
        "colab_type": "text"
      },
      "source": [
        "Declare symbolic variables."
      ]
    },
    {
      "cell_type": "code",
      "metadata": {
        "id": "yEM5_bQ0dqjs",
        "colab_type": "code",
        "colab": {}
      },
      "source": [
        "aa2, aa3, aa4, aa5, aa6 = sp.symbols('aa2 aa3 aa4 aa5 aa6')"
      ],
      "execution_count": 0,
      "outputs": []
    },
    {
      "cell_type": "markdown",
      "metadata": {
        "id": "Iksno4KydsMv",
        "colab_type": "text"
      },
      "source": [
        "Create vectors with the known values and the symbolic variables."
      ]
    },
    {
      "cell_type": "code",
      "metadata": {
        "id": "3pUxSqltdyLA",
        "colab_type": "code",
        "colab": {}
      },
      "source": [
        "alpha2 = sp.Matrix(1,3,[0,0,0])\n",
        "alpha3 = sp.Matrix(1,3,[0,0,aa3])\n",
        "alpha4 = sp.Matrix(1,3,[0,0,aa4])\n",
        "alpha5 = sp.Matrix(1,3,[0,0,aa5])\n",
        "alpha6 = sp.Matrix(1,3,[0,0,aa6])"
      ],
      "execution_count": 0,
      "outputs": []
    },
    {
      "cell_type": "markdown",
      "metadata": {
        "id": "8m7HEC96dzMb",
        "colab_type": "text"
      },
      "source": [
        "Print the vectors."
      ]
    },
    {
      "cell_type": "code",
      "metadata": {
        "id": "osybh4YreBLD",
        "colab_type": "code",
        "colab": {
          "base_uri": "https://localhost:8080/",
          "height": 119
        },
        "outputId": "3cc4fd57-28b5-49d3-8cc4-cd11a4ed89fd"
      },
      "source": [
        "print(\"Angular accelerations\\n\",alp_str[0],\"=\",alpha2,\"\\n\",alp_str[1],\"=\",alpha3,\"\\n\",alp_str[2],\"=\",alpha4,\"\\n\",alp_str[3],\"=\",alpha5,\"\\n\",alp_str[4],\"=\",alpha6)"
      ],
      "execution_count": 26,
      "outputs": [
        {
          "output_type": "stream",
          "text": [
            "Angular accelerations\n",
            " α2 = Matrix([[0, 0, 0]]) \n",
            " α3 = Matrix([[0, 0, aa3]]) \n",
            " α4 = Matrix([[0, 0, aa4]]) \n",
            " α5 = Matrix([[0, 0, aa5]]) \n",
            " α6 = Matrix([[0, 0, aa6]])\n"
          ],
          "name": "stdout"
        }
      ]
    },
    {
      "cell_type": "markdown",
      "metadata": {
        "id": "RpYHDs3GeAd9",
        "colab_type": "text"
      },
      "source": [
        "Calculate accelerations."
      ]
    },
    {
      "cell_type": "code",
      "metadata": {
        "id": "sFp7G5eamaxA",
        "colab_type": "code",
        "colab": {}
      },
      "source": [
        "AC = alpha2.cross(rCO21) + omega2.cross(omega2.cross(rCO21))\n",
        "AD3 = AC + alpha3.cross(rDC) + omega3.cross(omega3.cross(rDC))\n",
        "AD4 = alpha4.cross(rDO41) + omega4.cross(omega4.cross(rDO41))"
      ],
      "execution_count": 0,
      "outputs": []
    },
    {
      "cell_type": "markdown",
      "metadata": {
        "id": "KLyymmnJmina",
        "colab_type": "text"
      },
      "source": [
        "Print the results of the accelerations."
      ]
    },
    {
      "cell_type": "code",
      "metadata": {
        "id": "ZIUtQXHTmhZb",
        "colab_type": "code",
        "colab": {
          "base_uri": "https://localhost:8080/",
          "height": 85
        },
        "outputId": "da1d0827-e589-41b0-cb2a-b40bd9a0c6b0"
      },
      "source": [
        "print(\"Point accelerations\\nAC = \",alp_str[0],\" x rCO21 + \",w_str[0],\" x \",w_str[0],\" x rCO21 = \",AC,\"\\nAD3 = AC + \",alp_str[1],\" x rDC + \",w_str[1],\" x \",w_str[1],\" x rDC = \",AD3,\"\\nAD4 = \",alp_str[2],\" x rDO41 + \",w_str[2],\" x \",w_str[2],\" x rDO41 = \",AD4)"
      ],
      "execution_count": 28,
      "outputs": [
        {
          "output_type": "stream",
          "text": [
            "Point accelerations\n",
            "AC =  α2  x rCO21 +  ω2  x  ω2  x rCO21 =  Matrix([[494.173061379222, -5648.42393818020, 0]]) \n",
            "AD3 = AC +  α3  x rDC +  ω3  x  ω3  x rDC =  Matrix([[-8.08074589703349*aa3 + 57.0279088954586, 99.6729729954293*aa3 - 5683.86442712301, 0]]) \n",
            "AD4 =  α4  x rDO41 +  ω4  x  ω4  x rDO41 =  Matrix([[-77.8143817610846*aa4 - 1274.15138480262, 18.5720755743718*aa4 - 5338.51490542404, 0]])\n"
          ],
          "name": "stdout"
        }
      ]
    },
    {
      "cell_type": "markdown",
      "metadata": {
        "id": "DR4EwW6EmqiE",
        "colab_type": "text"
      },
      "source": [
        "Solve for aa3 and aa4"
      ]
    },
    {
      "cell_type": "code",
      "metadata": {
        "id": "guEMDafymv9t",
        "colab_type": "code",
        "colab": {}
      },
      "source": [
        "Eqa1 = sp.Eq(AD3[0],AD4[0])\n",
        "Eqa2 = sp.Eq(AD3[1],AD4[1])\n",
        "ansa = sp.solve([Eqa1,Eqa2])"
      ],
      "execution_count": 0,
      "outputs": []
    },
    {
      "cell_type": "markdown",
      "metadata": {
        "id": "gnc6SSZom8Lm",
        "colab_type": "text"
      },
      "source": [
        "Print the answer."
      ]
    },
    {
      "cell_type": "code",
      "metadata": {
        "id": "_Al7MG7-nDtF",
        "colab_type": "code",
        "colab": {
          "base_uri": "https://localhost:8080/",
          "height": 51
        },
        "outputId": "7bc227f8-6fa3-4f38-a724-b3b8757980f0"
      },
      "source": [
        "print(\"Solution for aa3 and aa4 of matching accelerations equations of point D\\n\",ansa)"
      ],
      "execution_count": 30,
      "outputs": [
        {
          "output_type": "stream",
          "text": [
            "Solution for aa3 and aa4 of matching accelerations equations of point D\n",
            " {aa3: 0.282726957185647, aa4: -17.0777511678876}\n"
          ],
          "name": "stdout"
        }
      ]
    },
    {
      "cell_type": "markdown",
      "metadata": {
        "id": "ALK5Qs_-nFSp",
        "colab_type": "text"
      },
      "source": [
        "Substitute the answer in the vectors aa3 and aa4"
      ]
    },
    {
      "cell_type": "code",
      "metadata": {
        "id": "TtZPQMb7Tx_9",
        "colab_type": "code",
        "colab": {}
      },
      "source": [
        "alpha3 = alpha3.subs(aa3,ansa[aa3])\n",
        "alpha4 = alpha4.subs(aa4,ansa[aa4])"
      ],
      "execution_count": 0,
      "outputs": []
    },
    {
      "cell_type": "code",
      "metadata": {
        "id": "LzHDu5VWnRz3",
        "colab_type": "code",
        "colab": {
          "base_uri": "https://localhost:8080/",
          "height": 68
        },
        "outputId": "47becf2c-b761-4cee-af5c-e22d960bdbec"
      },
      "source": [
        "print(\"Substituting aa3 and aa4 in vectors\",alp_str[1],\" and \",alp_str[2],\"\\n\",alp_str[1],\"=\",alpha3,\"\\n\",alp_str[2],\"=\",alpha4)"
      ],
      "execution_count": 32,
      "outputs": [
        {
          "output_type": "stream",
          "text": [
            "Substituting aa3 and aa4 in vectors α3  and  α4 \n",
            " α3 = Matrix([[0, 0, 0.282726957185647]]) \n",
            " α4 = Matrix([[0, 0, -17.0777511678876]])\n"
          ],
          "name": "stdout"
        }
      ]
    },
    {
      "cell_type": "markdown",
      "metadata": {
        "id": "qs7YqWkXnUyb",
        "colab_type": "text"
      },
      "source": [
        "Calculate the rest of the accelerations."
      ]
    },
    {
      "cell_type": "code",
      "metadata": {
        "id": "pXMKceITnaSp",
        "colab_type": "code",
        "colab": {}
      },
      "source": [
        "AP3 = AC + alpha3.cross(rPC) + omega3.cross(omega3.cross(rPC))\n",
        "AF5 = AP3 + alpha5.cross(rFP) + omega5.cross(omega5.cross(rFP))\n",
        "AF6 = alpha6.cross(rFO61) + omega6.cross(omega6.cross(rFO61))"
      ],
      "execution_count": 0,
      "outputs": []
    },
    {
      "cell_type": "markdown",
      "metadata": {
        "id": "cObIGv-cnbun",
        "colab_type": "text"
      },
      "source": [
        "Print the results of the accelerations."
      ]
    },
    {
      "cell_type": "code",
      "metadata": {
        "id": "kQRmUf9qo8TY",
        "colab_type": "code",
        "colab": {
          "base_uri": "https://localhost:8080/",
          "height": 85
        },
        "outputId": "d7593284-1709-4734-f3f8-5faad7510727"
      },
      "source": [
        "print(\"Point accelerations\\nAP3 = AC + \",alp_str[1],\" x rPC + \",w_str[1],\" x \",w_str[1],\" x rPC = \",AP3,\"\\nAF5 = AP3 + \",alp_str[3],\" x rFP + \",w_str[3],\" x \",w_str[3],\" x rFP = \",AF5,\"\\nAF6 = \",alp_str[4],\" x rFO61 + \",w_str[4],\" x \",w_str[4],\" x rFO61 = \",AF6)"
      ],
      "execution_count": 34,
      "outputs": [
        {
          "output_type": "stream",
          "text": [
            "Point accelerations\n",
            "AP3 = AC +  α3  x rPC +  ω3  x  ω3  x rPC =  Matrix([[263.445184231292, -5816.86102785437, 0]]) \n",
            "AF5 = AP3 +  α5  x rFP +  ω5  x  ω5  x rFP =  Matrix([[15.1079322561889*aa5 - 306.349291009673, 119.045161106793*aa5 - 5744.54883765817, 0]]) \n",
            "AF6 =  α6  x rFO61 +  ω6  x  ω6  x rFO61 =  Matrix([[-96.2492132913208*aa6 + 1637.83554061634, -27.130959083708*aa6 - 5810.35052238718, 0]])\n"
          ],
          "name": "stdout"
        }
      ]
    },
    {
      "cell_type": "markdown",
      "metadata": {
        "id": "pRly5uigpDJv",
        "colab_type": "text"
      },
      "source": [
        "Solve for aa5 and aa6."
      ]
    },
    {
      "cell_type": "code",
      "metadata": {
        "id": "DHM703UEpFtX",
        "colab_type": "code",
        "colab": {}
      },
      "source": [
        "Eqa3 = sp.Eq(AF5[0],AF6[0])\n",
        "Eqa4 = sp.Eq(AF5[1],AF6[1])\n",
        "ansa2 = sp.solve([Eqa3,Eqa4])"
      ],
      "execution_count": 0,
      "outputs": []
    },
    {
      "cell_type": "markdown",
      "metadata": {
        "id": "_H2vHjHApG1O",
        "colab_type": "text"
      },
      "source": [
        "Print the answer."
      ]
    },
    {
      "cell_type": "code",
      "metadata": {
        "id": "czr2KsSFpILk",
        "colab_type": "code",
        "colab": {
          "base_uri": "https://localhost:8080/",
          "height": 51
        },
        "outputId": "f36acc04-4b24-4074-bef2-a63b2a7fedf4"
      },
      "source": [
        "print(\"Solution for aa5 and aa6 of matching accelerations equations of point F\\n\",ansa2)"
      ],
      "execution_count": 36,
      "outputs": [
        {
          "output_type": "stream",
          "text": [
            "Solution for aa5 and aa6 of matching accelerations equations of point F\n",
            " {aa5: -5.34760762788408, aa6: 21.0388849545367}\n"
          ],
          "name": "stdout"
        }
      ]
    },
    {
      "cell_type": "markdown",
      "metadata": {
        "id": "AxyhO1EH3c2M",
        "colab_type": "text"
      },
      "source": [
        "Substitute the answer in the vectors aa5 and aa6"
      ]
    },
    {
      "cell_type": "code",
      "metadata": {
        "id": "tleU2v7U3VQr",
        "colab_type": "code",
        "colab": {}
      },
      "source": [
        "alpha5 = alpha5.subs(aa5,ansa2[aa5])\n",
        "alpha6 = alpha6.subs(aa6,ansa2[aa6])"
      ],
      "execution_count": 0,
      "outputs": []
    },
    {
      "cell_type": "code",
      "metadata": {
        "id": "AsZ9ZqDG3asH",
        "colab_type": "code",
        "colab": {
          "base_uri": "https://localhost:8080/",
          "height": 68
        },
        "outputId": "71b67361-2a3f-481b-c14f-cfa58a258f77"
      },
      "source": [
        "print(\"Substituting aa5 and aa6 in vectors\",alp_str[3],\" and \",alp_str[4],\"\\n\",alp_str[3],\"=\",alpha5,\"\\n\",alp_str[4],\"=\",alpha6)"
      ],
      "execution_count": 38,
      "outputs": [
        {
          "output_type": "stream",
          "text": [
            "Substituting aa5 and aa6 in vectors α5  and  α6 \n",
            " α5 = Matrix([[0, 0, -5.34760762788408]]) \n",
            " α6 = Matrix([[0, 0, 21.0388849545367]])\n"
          ],
          "name": "stdout"
        }
      ]
    }
  ]
}